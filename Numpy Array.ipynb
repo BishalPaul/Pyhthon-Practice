{
 "cells": [
  {
   "cell_type": "code",
   "execution_count": 55,
   "metadata": {},
   "outputs": [
    {
     "data": {
      "text/plain": [
       "<BarContainer object of 7 artists>"
      ]
     },
     "execution_count": 55,
     "metadata": {},
     "output_type": "execute_result"
    },
    {
     "data": {
      "image/png": "[encoded data removed]",
      "text/plain": [
       "<Figure size 432x288 with 1 Axes>"
      ]
     },
     "metadata": {
      "needs_background": "light"
     },
     "output_type": "display_data"
    }
   ],
   "source": [
    "import numpy as np\n",
    "import matplotlib.pyplot as plt\n",
    "a=np.array([0,1,2,3,4,5,6])\n",
    "type(a)\n",
    "a.dtype\n",
    "a.size\n",
    "a.ndim\n",
    "a.shape\n",
    "a[3]=9\n",
    "b=np.array([6,5,4,3,2,1,9])\n",
    "c=a+b\n",
    "d=2*a\n",
    "e=a.mean()\n",
    "f=a+1\n",
    "g=np.dot(a,b)\n",
    "h=b.max()\n",
    "np.pi\n",
    "x=np.array([0,np.pi/2,np.pi])\n",
    "y=np.sin(x)\n",
    "np.linspace(0,10,num=10)\n",
    "u=np.linspace(0,2*np.pi)\n",
    "v=np.tan(u)\n",
    "%matplotlib inline\n",
    "#plt.plot(u,v)\n",
    "m=np.linspace(1,15,7)\n",
    "n=np.linspace(11,19,7)\n",
    "plt.bar(m,n)"
   ]
  },
  {
   "cell_type": "code",
   "execution_count": 69,
   "metadata": {},
   "outputs": [
    {
     "data": {
      "text/plain": [
       "24"
      ]
     },
     "execution_count": 69,
     "metadata": {},
     "output_type": "execute_result"
    }
   ],
   "source": [
    "a=[[1,2,3],[4,5,6],[7,8,9]]\n",
    "b=np.array(a)\n",
    "b.size\n",
    "b.shape\n",
    "b.ndim\n",
    "c=np.array([[9,8,7],[6,5,4],[3,2,1]])\n",
    "d=b+c\n",
    "e=b*c\n",
    "f=np.dot(b,c)\n",
    "f[0][1]"
   ]
  },
  {
   "cell_type": "code",
   "execution_count": null,
   "metadata": {},
   "outputs": [],
   "source": []
  }
 ],
 "metadata": {
  "kernelspec": {
   "display_name": "Python 3",
   "language": "python",
   "name": "python3"
  },
  "language_info": {
   "codemirror_mode": {
    "name": "ipython",
    "version": 3
   },
   "file_extension": ".py",
   "mimetype": "text/x-python",
   "name": "python",
   "nbconvert_exporter": "python",
   "pygments_lexer": "ipython3",
   "version": "3.7.1"
  }
 },
 "nbformat": 4,
 "nbformat_minor": 2
}
