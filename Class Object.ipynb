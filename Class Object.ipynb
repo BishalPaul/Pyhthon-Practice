{
 "cells": [
  {
   "cell_type": "code",
   "execution_count": 3,
   "metadata": {},
   "outputs": [
    {
     "name": "stdout",
     "output_type": "stream",
     "text": [
      "The Sum of 45 and 65 is= 110\n",
      "The Sum of 34 and 43 is= 77\n"
     ]
    }
   ],
   "source": [
    "class Addition:\n",
    "    def __init__(self,num1,num2):\n",
    "        self.num1=num1\n",
    "        self.num2=num2\n",
    "    def add(self):\n",
    "        self.sumation=self.num1+self.num2\n",
    "    def show(self):\n",
    "        print(\"The Sum of\",self.num1,\"and\",self.num2,\"is=\",self.sumation)\n",
    "ob1=Addition(45,65)\n",
    "ob2=Addition(34,43)\n",
    "#ob3=Addition(67,35)\n",
    "ob1.add()\n",
    "ob1.show()\n",
    "ob2.add()\n",
    "ob2.show()\n",
    "\n",
    "#ob3.add()\n",
    "#ob3.show()"
   ]
  },
  {
   "cell_type": "code",
   "execution_count": null,
   "metadata": {},
   "outputs": [],
   "source": []
  }
 ],
 "metadata": {
  "kernelspec": {
   "display_name": "Python 3",
   "language": "python",
   "name": "python3"
  },
  "language_info": {
   "codemirror_mode": {
    "name": "ipython",
    "version": 3
   },
   "file_extension": ".py",
   "mimetype": "text/x-python",
   "name": "python",
   "nbconvert_exporter": "python",
   "pygments_lexer": "ipython3",
   "version": "3.7.1"
  }
 },
 "nbformat": 4,
 "nbformat_minor": 2
}
